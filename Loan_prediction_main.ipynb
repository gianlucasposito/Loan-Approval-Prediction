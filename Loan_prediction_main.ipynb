{
 "cells": [
  {
   "cell_type": "code",
   "execution_count": null,
   "id": "35c269cc-1ca7-4c05-b27e-4e5c277628cd",
   "metadata": {},
   "outputs": [],
   "source": [
    "# Import library\n",
    "\n",
    "import numpy as np\n",
    "import pandas as pd\n",
    "import seaborn as sns\n",
    "from sklearn.model_selection import train_test_split\n",
    "from sklearn import svm\n",
    "from sklearn.metrics import accuracy_score\n",
    "from sklearn.preprocessing import LabelEncoder, StandardScaler\n",
    "import matplotlib.pyplot as plt"
   ]
  },
  {
   "cell_type": "markdown",
   "id": "e4eda532-4593-4bda-8239-eebdea0d0316",
   "metadata": {},
   "source": [
    "## Import data"
   ]
  },
  {
   "cell_type": "code",
   "execution_count": null,
   "id": "e5a04627-1e01-4517-a433-09d00a8e38e7",
   "metadata": {},
   "outputs": [],
   "source": [
    "# Load the datasets\n",
    "train_data = pd.read_csv('Data/Loan_dataset_train.csv') # This is the portion of the dataset used to \"train\" or fit the model.\n",
    "test_data = pd.read_csv('Data/Loan_dataset_test.csv') # This subset is reserved for evaluating the model’s performance after training."
   ]
  },
  {
   "cell_type": "code",
   "execution_count": null,
   "id": "82a61398-1a4e-4a56-8386-c3f30f92a8eb",
   "metadata": {},
   "outputs": [],
   "source": [
    "# Display the first few rows of the training dataset\n",
    "print(\"Training Data Head:\")\n",
    "print(train_data.head())"
   ]
  },
  {
   "cell_type": "code",
   "execution_count": null,
   "id": "eca59fc8-940d-4e78-9deb-106a2e7e90b7",
   "metadata": {},
   "outputs": [],
   "source": [
    "# # Display the first few rows of the test dataset\n",
    "print(\"\\nTest Data Head:\")\n",
    "print(test_data.head())"
   ]
  },
  {
   "cell_type": "markdown",
   "id": "fdbae21f-64ca-4560-a606-240640872501",
   "metadata": {},
   "source": [
    "## Understanding the data"
   ]
  },
  {
   "cell_type": "code",
   "execution_count": null,
   "id": "f831a066-e44b-4b0d-bca5-927d361f2d0a",
   "metadata": {},
   "outputs": [],
   "source": [
    "# Data columns\n",
    "train_data.columns"
   ]
  },
  {
   "cell_type": "markdown",
   "id": "1f4fda37-e997-4366-a00f-d600986bdaf2",
   "metadata": {},
   "source": [
    "There are 12 independent variables and 1 target variable, i.e., `Loan_Status`"
   ]
  },
  {
   "cell_type": "code",
   "execution_count": null,
   "id": "68f3b76c-7f60-49cd-a8c8-46799817be70",
   "metadata": {},
   "outputs": [],
   "source": [
    "# Data columns\n",
    "test_data.columns"
   ]
  },
  {
   "cell_type": "markdown",
   "id": "414be230-4cd5-446f-8974-a906d6c7f534",
   "metadata": {},
   "source": [
    "The test dataset contains the same features as the training dataset, except for `Loan_Status`. The model will be trained on the training data to predict `Loan_Status` for the test dataset."
   ]
  },
  {
   "cell_type": "markdown",
   "id": "377156b0-b541-4602-99e1-d6eb8b13b227",
   "metadata": {},
   "source": [
    "The description of each variable is provided below.\n",
    "\n",
    "| Variable           | Description                                  |\r\n",
    "|--------------------|----------------------------------------------|\r\n",
    "| Loan_ID            | Unique Loan ID                               |\r\n",
    "| Gender             | Male/ Female                                 |\r\n",
    "| Married            | Applicant married (Y/N)                      |\r\n",
    "| Dependents         | Number of dependents                         |\r\n",
    "| Education          | Applicant Education (Graduate/Under Graduate)|\r\n",
    "| Self_Employed      | Self employed (Y/N)                          |\r\n",
    "| ApplicantIncome    | Applicant income                             |\r\n",
    "| CoapplicantIncome  | Coapplicant income                           |\r\n",
    "| LoanAmount         | Loan amount in thousands                     |\r\n",
    "| Loan_Amount_Term   | Term of loan in months                       |\r\n",
    "| Credit_History     | Credit history meets guidelines              |\r\n",
    "| Property_Area      | Urban/ Semi Urban/ Rural                     |\r\n",
    "| Loan_Status        | Loan approved (Y/N)                          |\r\n"
   ]
  },
  {
   "cell_type": "code",
   "execution_count": null,
   "id": "ba47aec3-22d7-494c-8805-4830ec7b40a6",
   "metadata": {},
   "outputs": [],
   "source": [
    "# Dataset shape\n",
    "train_data.shape, test_data.shape"
   ]
  },
  {
   "cell_type": "markdown",
   "id": "323585b5-8595-4997-9a50-f98e474bfee6",
   "metadata": {},
   "source": [
    "The training dataset contains 614 rows and 13 columns, while the test dataset includes 367 rows and 12 columns."
   ]
  },
  {
   "cell_type": "code",
   "execution_count": null,
   "id": "3ef2ca73-f0c3-4479-ad9f-f69c8d70ae80",
   "metadata": {},
   "outputs": [],
   "source": [
    "# Remove the Loan_ID variable since it doesn't impact the loan status. \n",
    "\n",
    "train_data = train_data.drop('Loan_ID', axis=1)\n",
    "test_data = test_data.drop('Loan_ID', axis=1)"
   ]
  },
  {
   "cell_type": "markdown",
   "id": "3e980592-6d74-49f6-978a-430e8cd66cac",
   "metadata": {},
   "source": [
    "## Data Exploration\n",
    "Expanding on the exploratory analysis will allow to better understand the data distribution, feature relationships, and key patterns."
   ]
  },
  {
   "cell_type": "markdown",
   "id": "0bb11b19-2fb3-4521-ae7e-4b4569eda201",
   "metadata": {},
   "source": [
    "### Univariate analysis\n",
    "This part focuses on examining each feature individually, understanding the distribution of categorical and numerical variables, and identifying potential outliers."
   ]
  },
  {
   "cell_type": "code",
   "execution_count": null,
   "id": "84fafbe6-49a1-4c98-8535-125cee8195f1",
   "metadata": {},
   "outputs": [],
   "source": [
    "# Distribution of target variable (Loan_Status)\n",
    "train_data['Loan_Status'].value_counts().plot.bar()"
   ]
  },
  {
   "cell_type": "markdown",
   "id": "872e8fe5-3830-4956-b90c-d4d209969f88",
   "metadata": {},
   "source": [
    "The distribution plot shows that the target variable, `Loan_Status`, has more approved loans (labeled as Y) than disapproved ones (labeled as N)."
   ]
  },
  {
   "cell_type": "code",
   "execution_count": null,
   "id": "24036419-91c8-4385-b1f3-92009b18d641",
   "metadata": {},
   "outputs": [],
   "source": [
    "# Distributions of numerical features\n",
    "\n",
    "# List of numerical columns\n",
    "numerical_columns = ['ApplicantIncome', 'CoapplicantIncome', 'LoanAmount'] \n",
    "\n",
    "# Loop through each column to create distribution and boxplots\n",
    "for column in numerical_columns:\n",
    "    plt.figure(figsize=(16, 5))\n",
    "    \n",
    "    # Distribution plot\n",
    "    plt.subplot(1, 2, 1)\n",
    "    sns.histplot(train_data[column], kde=True)  \n",
    "    plt.title(f'Distribution of {column}')\n",
    "    \n",
    "    # Boxplot\n",
    "    plt.subplot(1, 2, 2)\n",
    "    train_data[column].plot.box()\n",
    "    plt.title(f'Boxplot of {column}')\n",
    "    \n",
    "    plt.show()"
   ]
  },
  {
   "cell_type": "markdown",
   "id": "07d0a92b-6c1b-4106-a789-595b62f457d9",
   "metadata": {},
   "source": [
    "The histograms show that the distribution of `ApplicantIncome` and `CoapplicantIncome` are right-skewed, indicating that a few applicants have significantly higher incomes than others. This skewness might necessitate scaling or transformation for more effective modeling. \n",
    "Additionally, `LoanAmount` also exhibits a similar right-skewed distribution.\n",
    "There are also some outliers that will be addressed in later sections."
   ]
  },
  {
   "cell_type": "code",
   "execution_count": null,
   "id": "f07fc1b0-5cd6-4495-a82f-829d4e02f08b",
   "metadata": {},
   "outputs": [],
   "source": [
    "# Distributions of categorical features\n",
    "\n",
    "# List of categorical columns\n",
    "categorical_features = ['Gender', 'Married', 'Dependents', 'Education', 'Self_Employed', 'Property_Area', 'Loan_Amount_Term', 'Credit_History']\n",
    "\n",
    "# Plot through each column\n",
    "plt.figure(figsize=(15, 10))\n",
    "for i, column in enumerate(categorical_features, 1):\n",
    "    plt.subplot(3, 3, i)\n",
    "    sns.countplot(data=train_data, x=column)\n",
    "    plt.title(f'Distribution of {column}')\n",
    "plt.tight_layout()\n",
    "plt.show()"
   ]
  },
  {
   "cell_type": "markdown",
   "id": "2b9880d1-dded-43c3-a31e-17794f99d020",
   "metadata": {},
   "source": [
    "The count plots reveal key characteristics of the categorical features:\n",
    "\n",
    "- `Gender` and `Married`: The majority of applicants are male and married.\n",
    "- `Dependents`: There is a higher proportion of applicants without dependents, with fewer applicants reporting multiple dependents.\n",
    "- `Education`: Most applicants are graduates.\n",
    "- `Self_Employed`: Fewer applicants are self-employed, which might be a distinguishing characteristic among applicants.\n",
    "- `Credit_History`: The majority of applicants have repaid their debts\n",
    "- `Property_Area`: The distribution is fairly balanced across *Rural*, *Urban*, and *Semiurban* areas, potentially aiding in differentiating loan outcomes based on geographic context."
   ]
  },
  {
   "cell_type": "markdown",
   "id": "4878567a-80bf-4542-9d23-bfc1fd176968",
   "metadata": {},
   "source": [
    "### Bivariate Analysis\n",
    "\n",
    "Bivariate analysis explores the relationship between each feature and the target variable, allowing to examine potential correlations or patterns.\n"
   ]
  },
  {
   "cell_type": "code",
   "execution_count": null,
   "id": "d8978bf2-4c8b-4ee1-8906-8725583dd38a",
   "metadata": {},
   "outputs": [],
   "source": [
    "# Countplots for categorical features with respect to target\n",
    "plt.figure(figsize=(15, 10))\n",
    "for i, column in enumerate(categorical_features, 1):\n",
    "    plt.subplot(3, 3, i)\n",
    "    sns.countplot(data=train_data, x=column, hue='Loan_Status')  # Replace 'target' with actual target column\n",
    "    plt.title(f'{column} vs Target')\n",
    "plt.tight_layout()\n",
    "plt.show()"
   ]
  },
  {
   "cell_type": "markdown",
   "id": "b952f5ff-2d69-4aa2-b25e-cfb3ecf64602",
   "metadata": {},
   "source": [
    "The count plots for categorical features reveal key relationships with loan approval status (`Loan_Status`). Here’s a summary of the insights:\n",
    "\n",
    "- Male and married applicants have slightly higher loan approval rates, though this difference is minor.\n",
    "- Applicants with fewer dependents appear to have slightly better approval rates.\n",
    "- Graduates show higher loan approval rates than non-graduates.\n",
    "- Non-self-employed applicants have higher approval rates.\n",
    "- Applicants with a credit history (recorded as e1 ) show a significantly higher loan approval rate, indicating it is a strong predictor.\n",
    "- Approval rates are higher in *Semiurban* areas compared to *Urban* and *Rural* areas. "
   ]
  },
  {
   "cell_type": "code",
   "execution_count": null,
   "id": "f3e23d14-d2d7-4b8e-821a-fd460214c52b",
   "metadata": {},
   "outputs": [],
   "source": [
    "# Boxplots to analyze numerical features against the target variable\n",
    "\n",
    "plt.figure(figsize=(15, 10))\n",
    "for i, column in enumerate(numerical_columns, 1):\n",
    "    plt.subplot(3, 3, i)\n",
    "    sns.boxplot(data=train_data, x='Loan_Status', y=column)  # Replace 'target' with actual target column\n",
    "    plt.title(f'{column} vs Target')\n",
    "plt.tight_layout()\n",
    "plt.show()"
   ]
  },
  {
   "cell_type": "markdown",
   "id": "17d623c9-ec7b-4a03-a972-720333ecf86b",
   "metadata": {},
   "source": [
    "The boxplots for numerical features provide insight into their relationship with loan approval status (`Loan_Status`). Here is a summary of the observed patterns:\n",
    "\n",
    "- Approved and not approved loans for `ApplicantIncome` and `CoapplicantIncome` have similar distributions, though some outliers exist for higher incomes.\n",
    "- Higher `LoanAmount` values appear in both approved and unapproved loans but with more variability in the not approved group, potentially hinting at an influencing factor.\n"
   ]
  },
  {
   "cell_type": "markdown",
   "id": "d405c1c7-25c5-4c30-be8b-fbb0bd90267b",
   "metadata": {},
   "source": [
    "### Correlation Analysis\n",
    "\n",
    "Correlation analysis considers the interactions between multiple variables, which can uncover deeper insights about the dataset."
   ]
  },
  {
   "cell_type": "code",
   "execution_count": null,
   "id": "16c49646-a73d-4bda-b8ab-eb912caaae35",
   "metadata": {},
   "outputs": [],
   "source": [
    "# Correlation matrix for numerical features\n",
    "\n",
    "#  Prepare data for correlation analysis\n",
    "train_data['Loan_Status'] = train_data['Loan_Status'].replace({'Y': 1, 'N': 0}).infer_objects(copy=False)\n",
    "\n",
    "corr_column = ['ApplicantIncome', 'CoapplicantIncome', 'LoanAmount', 'Loan_Amount_Term', 'Credit_History', 'Loan_Status']\n",
    "\n",
    "plt.figure(figsize=(10, 8))\n",
    "sns.heatmap(train_data[corr_column].corr(), annot=True, cmap='coolwarm', fmt='.2f')\n",
    "plt.title('Correlation Matrix of Numerical Features')\n",
    "plt.show()"
   ]
  },
  {
   "cell_type": "markdown",
   "id": "fbfcc360-fd0f-452a-bb3d-b2af9605f27f",
   "metadata": {},
   "source": [
    "The correlation matrix reveals several insights:\n",
    "\n",
    "- `Credit_History` shows no strong correlations with numerical features but has a significant influence on loan approvals, as seen in earlier analysis.\n",
    "\n",
    "- `CoapplicantIncome`, `LoanAmount` , and `ApplicantIncome` all have very low correlations with `Loan_Status`. This implies that income-related factors, both of the main applicant and co-applicant, do not significantly impact loan approval decisions.\n",
    "\n",
    "- `Loan_Amount_Term` also shows a very low negative correlation with `Loan_Status`, indicating that the length of the loan term has little to no impact on loan approval.\n",
    "\n",
    "- There is a moderate positive correlation of  between `ApplicantIncome` and `LoanAmount`. This indicates that as the applicant's income increases, the loan amount tends to increase as well, which is logical as higher-income applicants may be eligible for larger loan amounts.\n"
   ]
  },
  {
   "cell_type": "markdown",
   "id": "4e555643-2304-469e-a34d-f007bbdffe61",
   "metadata": {},
   "source": [
    "## Missing Value and Outlier Treatment\r\n",
    "Identifying missing values and outliers aims to improve data quality by ensuring accuracy and reliability, as these issues can skew analysis and lead to incorrect conclusions. Addressing them helps build robust models and derive meaningful insights from the data.\n"
   ]
  },
  {
   "cell_type": "code",
   "execution_count": null,
   "id": "6ddac53d-c242-4f82-987e-2a0911af7515",
   "metadata": {},
   "outputs": [],
   "source": [
    "# Check for missing values\n",
    "train_data.isnull().sum()"
   ]
  },
  {
   "cell_type": "code",
   "execution_count": null,
   "id": "23694498-f806-4533-bf94-287d3122c176",
   "metadata": {},
   "outputs": [],
   "source": [
    "# Fill or drop missing values as necessary\n",
    "# For example, filling categorical missing values with the mode and numerical with the median\n",
    "for column in train_data.columns:\n",
    "    if column in  categorical_features:\n",
    "        train_data[column] = train_data[column].fillna(train_data[column].mode()[0])\n",
    "    else:\n",
    "        train_data[column] = train_data[column].fillna(train_data[column].median())"
   ]
  },
  {
   "cell_type": "markdown",
   "id": "63f6f3de-a495-4e22-b856-0fcc1f4edb13",
   "metadata": {},
   "source": [
    "Apply the log transformation to right-skewed column distributions: smaller values are only minimally impacted, while larger values are substantially reduced, resulting in a distribution that more closely resembles a normal distribution. This transformation mitigates the influence of extreme values, making the distribution more symmetric and suitable for modeling."
   ]
  },
  {
   "cell_type": "code",
   "execution_count": null,
   "id": "0eb9faa9-a8fe-4761-adef-85efc8e44018",
   "metadata": {},
   "outputs": [],
   "source": [
    "train_data['LoanAmount_log'] = np.log(train_data['LoanAmount']) \n",
    "train_data['LoanAmount_log'].hist(bins=20) # effect of log transformation\n",
    "test_data['LoanAmount_log'] = np.log(test_data['LoanAmount'])"
   ]
  },
  {
   "cell_type": "markdown",
   "id": "91f2c70c-48c0-495c-b340-5ba3db360786",
   "metadata": {},
   "source": [
    "## Machine Learning Model"
   ]
  },
  {
   "cell_type": "code",
   "execution_count": null,
   "id": "73a3173a-d991-4b78-bc88-04e3279a3224",
   "metadata": {},
   "outputs": [],
   "source": []
  }
 ],
 "metadata": {
  "kernelspec": {
   "display_name": "Python 3 (ipykernel)",
   "language": "python",
   "name": "python3"
  },
  "language_info": {
   "codemirror_mode": {
    "name": "ipython",
    "version": 3
   },
   "file_extension": ".py",
   "mimetype": "text/x-python",
   "name": "python",
   "nbconvert_exporter": "python",
   "pygments_lexer": "ipython3",
   "version": "3.10.13"
  }
 },
 "nbformat": 4,
 "nbformat_minor": 5
}
